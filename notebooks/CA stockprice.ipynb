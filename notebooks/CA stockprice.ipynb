{
 "cells": [
  {
   "cell_type": "markdown",
   "metadata": {},
   "source": [
    "#Introduction\n",
    "This notebook will contain the CA to simulate stock prices based on agents. It will use the model described in [1]."
   ]
  },
  {
   "cell_type": "markdown",
   "metadata": {},
   "source": [
    "# The model\n",
    "\n",
    "## Traders\n",
    "The traders have three states\n",
    "* Buy = 1\n",
    "* Sell = -1\n",
    "* Inactive = 0\n",
    "\n",
    "## The grid\n",
    "We use a 2D grid with 512x128 cells. We initialize the grid at random with a small percentage of active traders. We use the von Neumann neighbours (up,down,left, right)\n",
    "\n",
    "## Transition\n",
    "* $p_h$ : probability that an active trader can turn one of its, i.e. $\\sigma_i(t) = 0 \\rightarrow \\sigma_i(t+1) = 1$\n",
    "* $p_d$ : probability that an active trader diffuses and becomes inactive $\\sigma_i(t) = 1 \\rightarrow \\sigma_i(t+1) = 0$\n",
    "* $p_e$ : the probability that an non-active cell decides to enter the market $\\sigma_i(t) = 0 \\rightarrow \\sigma_i(t+1) = 1$\n",
    "\n",
    "## local probability rules\n",
    "probabilistic rule : \n",
    "* $\\sigma_i(t+1) = 1$ with probability $p_i^k$ \n",
    "* $\\sigma_i(t+1)=1$ with probability $(1-p_i^k)$ \n",
    "\n",
    "where $p_k^i$ is\n",
    "\n",
    "$$p_i^k(t) = \\frac{1}{1+e^{2I^k_i(t)}}$$\n",
    "    \n",
    "and $I^k_i(t)$ as\n",
    "\n",
    "$$I^k_i(t) = \\frac{1}{N^k(t)} \\sum_{j=1}^{N^k(t)}A^k_{ij}\\sigma^k_{j}(t)+h^k_i$$\n",
    "    \n",
    "with $A^k_{ij}$ as\n",
    "\n",
    "$$ A^k_{ij} = A\\xi^k(t) + \\alpha\\eta_{ij}(t)$$\n",
    "\n",
    "and $h^k_i = h \\zeta_i^k(t)$ with $\\xi^k(t),\\zeta^k(t),\\eta_{ij}(t)$ uniform randomly between -1,1."
   ]
  },
  {
   "cell_type": "code",
   "execution_count": 37,
   "metadata": {
    "collapsed": false
   },
   "outputs": [
    {
     "name": "stdout",
     "output_type": "stream",
     "text": [
      "Initialize model\n",
      "initialize grid\n"
     ]
    },
    {
     "ename": "AttributeError",
     "evalue": "'module' object has no attribute 'binom'",
     "output_type": "error",
     "traceback": [
      "\u001b[0;31m---------------------------------------------------------------------------\u001b[0m",
      "\u001b[0;31mAttributeError\u001b[0m                            Traceback (most recent call last)",
      "\u001b[0;32m<ipython-input-37-0d4bd3efcc40>\u001b[0m in \u001b[0;36m<module>\u001b[0;34m()\u001b[0m\n\u001b[1;32m    100\u001b[0m \u001b[0;34m\u001b[0m\u001b[0m\n\u001b[1;32m    101\u001b[0m \u001b[0;32mfor\u001b[0m \u001b[0mi\u001b[0m \u001b[0;32min\u001b[0m \u001b[0mrange\u001b[0m\u001b[0;34m(\u001b[0m\u001b[0msteps\u001b[0m\u001b[0;34m)\u001b[0m\u001b[0;34m:\u001b[0m\u001b[0;34m\u001b[0m\u001b[0m\n\u001b[0;32m--> 102\u001b[0;31m     \u001b[0mmodel\u001b[0m\u001b[0;34m.\u001b[0m\u001b[0mdoStep\u001b[0m\u001b[0;34m(\u001b[0m\u001b[0;34m)\u001b[0m\u001b[0;34m\u001b[0m\u001b[0m\n\u001b[0m\u001b[1;32m    103\u001b[0m \u001b[0;34m\u001b[0m\u001b[0m\n\u001b[1;32m    104\u001b[0m \u001b[0;34m\u001b[0m\u001b[0m\n",
      "\u001b[0;32m<ipython-input-37-0d4bd3efcc40>\u001b[0m in \u001b[0;36mdoStep\u001b[0;34m(self)\u001b[0m\n\u001b[1;32m     62\u001b[0m         \u001b[0;32mfor\u001b[0m \u001b[0mw\u001b[0m \u001b[0;32min\u001b[0m \u001b[0mrange\u001b[0m\u001b[0;34m(\u001b[0m\u001b[0mwidth\u001b[0m\u001b[0;34m)\u001b[0m\u001b[0;34m:\u001b[0m\u001b[0;34m\u001b[0m\u001b[0m\n\u001b[1;32m     63\u001b[0m             \u001b[0;32mfor\u001b[0m \u001b[0mh\u001b[0m \u001b[0;32min\u001b[0m \u001b[0mrange\u001b[0m\u001b[0;34m(\u001b[0m\u001b[0mheight\u001b[0m\u001b[0;34m)\u001b[0m\u001b[0;34m:\u001b[0m\u001b[0;34m\u001b[0m\u001b[0m\n\u001b[0;32m---> 64\u001b[0;31m                 \u001b[0mself\u001b[0m\u001b[0;34m.\u001b[0m\u001b[0mdoCellStep\u001b[0m\u001b[0;34m(\u001b[0m\u001b[0mw\u001b[0m\u001b[0;34m,\u001b[0m\u001b[0mh\u001b[0m\u001b[0;34m)\u001b[0m\u001b[0;34m\u001b[0m\u001b[0m\n\u001b[0m\u001b[1;32m     65\u001b[0m \u001b[0;34m\u001b[0m\u001b[0m\n\u001b[1;32m     66\u001b[0m         \u001b[0mself\u001b[0m\u001b[0;34m.\u001b[0m\u001b[0mupdatePrice\u001b[0m\u001b[0;34m(\u001b[0m\u001b[0;34m)\u001b[0m\u001b[0;34m\u001b[0m\u001b[0m\n",
      "\u001b[0;32m<ipython-input-37-0d4bd3efcc40>\u001b[0m in \u001b[0;36mdoCellStep\u001b[0;34m(self, i, j)\u001b[0m\n\u001b[1;32m     70\u001b[0m \u001b[0;34m\u001b[0m\u001b[0m\n\u001b[1;32m     71\u001b[0m         \u001b[0;32mif\u001b[0m \u001b[0mcell\u001b[0m \u001b[0;34m==\u001b[0m \u001b[0;36m0\u001b[0m\u001b[0;34m:\u001b[0m\u001b[0;34m\u001b[0m\u001b[0m\n\u001b[0;32m---> 72\u001b[0;31m             \u001b[0menter\u001b[0m \u001b[0;34m=\u001b[0m \u001b[0mnp\u001b[0m\u001b[0;34m.\u001b[0m\u001b[0mrandom\u001b[0m\u001b[0;34m.\u001b[0m\u001b[0mbinom\u001b[0m\u001b[0;34m(\u001b[0m\u001b[0;36m1\u001b[0m\u001b[0;34m,\u001b[0m\u001b[0mself\u001b[0m\u001b[0;34m.\u001b[0m\u001b[0mpe\u001b[0m\u001b[0;34m,\u001b[0m\u001b[0;36m1\u001b[0m\u001b[0;34m)\u001b[0m\u001b[0;34m\u001b[0m\u001b[0m\n\u001b[0m\u001b[1;32m     73\u001b[0m \u001b[0;34m\u001b[0m\u001b[0m\n\u001b[1;32m     74\u001b[0m             \u001b[0;31m#random enter probability\u001b[0m\u001b[0;34m\u001b[0m\u001b[0;34m\u001b[0m\u001b[0m\n",
      "\u001b[0;31mAttributeError\u001b[0m: 'module' object has no attribute 'binom'"
     ]
    }
   ],
   "source": [
    "import numpy as np\n",
    "\n",
    "class CAStochastic(object):\n",
    "    \n",
    "    def __init__(self, p, width, height, pe, pd):\n",
    "        print \"Initialize model\"\n",
    "        self.initializeGrid(p, width, height)\n",
    "        self.pe = pe #enter probability\n",
    "        self.pd = pd #diffuse probability\n",
    "        \n",
    "    def getGrid(self):\n",
    "        return self.grid\n",
    "    \n",
    "    def initializeGrid(self, p, width, height):\n",
    "        print \"initialize grid\"\n",
    "        self.grid = np.random.binomial(1, p, width*height).reshape(width,height)\n",
    "        \n",
    "    def localPRule(self,t):\n",
    "        print \"Local rule\"\n",
    "        probability = 1./(1+np.exp(2*self.localIRule(t)))\n",
    "        \n",
    "        return probability\n",
    "        \n",
    "    def localIRule(self,t):\n",
    "        print \"Local I rule\"\n",
    "        I = 1/self.Nsize(t)\n",
    "        for i in range(self.Nsize(t)):\n",
    "            print \"Sum it\"\n",
    "        \n",
    "    def A(self,i,j,k):\n",
    "        return self.A*self.xi(k,t) + self.alpha*self.eta(i,j,t)\n",
    "    \n",
    "    def xi(self,k,t):\n",
    "        return np.random.uniform(-1,1)\n",
    "    \n",
    "    def eta(self,i,j,t):\n",
    "        return np.random.uniform(-1,1)\n",
    "    \n",
    "    def h(self,k,i):\n",
    "        return h*self.zeta(i,k,t)\n",
    "    \n",
    "    def zeta(self, i,k,t):\n",
    "        return np.random.uniform(-1,1)\n",
    "        \n",
    "        \n",
    "    #http://dragly.org/2013/03/25/working-with-percolation-clusters-in-python/    \n",
    "    #size of cluster k  \n",
    "    def Nsize(self,t):\n",
    "        print \"N^k(t)\"\n",
    "        #alex will do\n",
    "        return 1\n",
    "        \n",
    "    #http://dragly.org/2013/03/25/working-with-percolation-clusters-in-python/\n",
    "    #number of clusters in the grid \n",
    "    def Ncl(self,t):\n",
    "        print \"cluster size\"\n",
    "        #alex will do\n",
    "        return 1\n",
    "        \n",
    "    def doStep(self):\n",
    "        (width, height) = model.getGrid().shape\n",
    "        for w in range(width):\n",
    "            for h in range(height):   \n",
    "                self.doCellStep(w,h)\n",
    "        \n",
    "        self.updatePrice()\n",
    "        \n",
    "    def doCellStep(self, i, j):\n",
    "        cell = self.grid[i, j]\n",
    "        \n",
    "        if cell == 0:\n",
    "            enter = np.random.binom(1,self.pe,1)\n",
    "            \n",
    "            #random enter probability\n",
    "            if enter == 1:\n",
    "                self.grid[i,j] = 1  \n",
    "            \n",
    "        elif abs(cell) == 1:\n",
    "            #diffuse?\n",
    "            diffuse = np.random.binom(1,self.pd,1)\n",
    "            \n",
    "            if diffuse ==1 :\n",
    "                self.grid[i,j] = 0\n",
    "            else:\n",
    "                #update status cell\n",
    "                pk = 0.2 #cell pk\n",
    "                state = np.choice([1,-1], 1, p=[pk,(1-pk)])\n",
    "                self.grid[i,j] = state\n",
    "                \n",
    "            \n",
    "        \n",
    "        \n",
    "    def updatePrice(self):\n",
    "        print \"update price\"\n",
    "    \n",
    "    \n",
    "model = CAStochastic(0.01, 512, 128, 0.01, 0.01)\n",
    "\n",
    "steps = 100\n",
    "\n",
    "for i in range(steps):\n",
    "    model.doStep()\n",
    "\n",
    "        \n",
    "\n",
    "        \n",
    "        "
   ]
  },
  {
   "cell_type": "code",
   "execution_count": 34,
   "metadata": {
    "collapsed": false
   },
   "outputs": [
    {
     "data": {
      "text/plain": [
       "array([0, 0, 0, 0, 0, 0, 0, 0, 0, 0, 0, 0, 0, 0, 0, 0, 0, 0, 0, 0, 0, 0, 0,\n",
       "       0, 0, 0, 0, 0, 0, 0, 0, 0, 0, 0, 0, 0, 0, 0, 0, 0, 0, 0, 0, 0, 0, 0,\n",
       "       0, 0, 0, 0, 0, 0, 0, 0, 0, 0, 0, 0, 0, 0, 0, 0, 0, 0, 0, 0, 0, 0, 0,\n",
       "       0, 0, 0, 0, 0, 0, 0, 0, 0, 0, 0, 0, 0, 0, 0, 0, 0, 0, 0, 0, 0, 0, 0,\n",
       "       0, 0, 0, 0, 0, 0, 0, 0, 0, 0, 0, 0, 0, 0, 0, 0, 0, 0, 0, 0, 0, 0, 0,\n",
       "       0, 0, 0, 0, 0, 0, 0, 0, 0, 0, 0, 0, 0])"
      ]
     },
     "execution_count": 34,
     "metadata": {},
     "output_type": "execute_result"
    }
   ],
   "source": [
    "sum(model.getGrid())"
   ]
  },
  {
   "cell_type": "code",
   "execution_count": null,
   "metadata": {
    "collapsed": true
   },
   "outputs": [],
   "source": []
  },
  {
   "cell_type": "markdown",
   "metadata": {},
   "source": [
    "# Reference\n",
    "[1] Bartolozzi, M., & Thomas, A. W. (2004). Stochastic cellular automata model for stock market dynamics. Physical Review E, 69(4). http://doi.org/10.1103/PhysRevE.69.046112"
   ]
  }
 ],
 "metadata": {
  "kernelspec": {
   "display_name": "Python 2",
   "language": "python",
   "name": "python2"
  },
  "language_info": {
   "codemirror_mode": {
    "name": "ipython",
    "version": 2
   },
   "file_extension": ".py",
   "mimetype": "text/x-python",
   "name": "python",
   "nbconvert_exporter": "python",
   "pygments_lexer": "ipython2",
   "version": "2.7.10"
  }
 },
 "nbformat": 4,
 "nbformat_minor": 0
}
